{
  "nbformat": 4,
  "nbformat_minor": 0,
  "metadata": {
    "colab": {
      "provenance": [],
      "authorship_tag": "ABX9TyOb9BM8+VqigDZeeIBXfaN+",
      "include_colab_link": true
    },
    "kernelspec": {
      "name": "python3",
      "display_name": "Python 3"
    },
    "language_info": {
      "name": "python"
    }
  },
  "cells": [
    {
      "cell_type": "markdown",
      "metadata": {
        "id": "view-in-github",
        "colab_type": "text"
      },
      "source": [
        "<a href=\"https://colab.research.google.com/github/ShubhamRChitte/Codsoft/blob/main/rock_paper_scissors_game.ipynb\" target=\"_parent\"><img src=\"https://colab.research.google.com/assets/colab-badge.svg\" alt=\"Open In Colab\"/></a>"
      ]
    },
    {
      "cell_type": "code",
      "execution_count": 3,
      "metadata": {
        "colab": {
          "base_uri": "https://localhost:8080/"
        },
        "id": "UiNgDHw6Vqyk",
        "outputId": "260ac8bc-34e1-4126-82b2-1b93a276bc31"
      },
      "outputs": [
        {
          "output_type": "stream",
          "name": "stdout",
          "text": [
            " Welcome to the Rock-Paper-Scissors Game\n",
            "Selsect the option :\n",
            "      1.scissors  2.rock  3.paper\n",
            "      1\n",
            "computer's choice : paper\n",
            "You Win!\n",
            "score - You : 1 computer : 0\n",
            "Do you want to play again? (yes/no): yes\n",
            "Selsect the option :\n",
            "      1.scissors  2.rock  3.paper\n",
            "      2\n",
            "computer's choice : scissors\n",
            "You Win!\n",
            "score - You : 2 computer : 0\n",
            "Do you want to play again? (yes/no): yes\n",
            "Selsect the option :\n",
            "      1.scissors  2.rock  3.paper\n",
            "      3\n",
            "computer's choice : scissors\n",
            "You lose!\n",
            "score - You : 2 computer : 1\n",
            "Do you want to play again? (yes/no): no\n",
            "Thanks for playing!\n"
          ]
        }
      ],
      "source": [
        "import random\n",
        "\n",
        "class Game :\n",
        "\n",
        "  def __init__(self):\n",
        "    self.__option = {\n",
        "        \"rock\" : \"scissors\",\n",
        "        \"paper\" : \"rock\",\n",
        "        \"scissors\" : \"paper\"\n",
        "        }\n",
        "\n",
        "\n",
        "\n",
        "  def quiz(self):\n",
        "    user_score = 0\n",
        "    computer_score = 0\n",
        "\n",
        "    while True :\n",
        "      user = input(\"\"\"Selsect the option :\n",
        "      1.scissors  2.rock  3.paper\n",
        "      \"\"\")\n",
        "\n",
        "      if user == \"1\":\n",
        "        user_option = \"scissors\"\n",
        "      elif user == \"2\" :\n",
        "        user_option = \"rock\"\n",
        "      else:\n",
        "        user_option = \"paper\"\n",
        "\n",
        "      option1,option2 = random.choices(list(self.__option.items()))[0]\n",
        "\n",
        "      print(\"computer's choice :\",option1)\n",
        "\n",
        "      if user_option == option1 :\n",
        "         print(\"It's a tie!\")\n",
        "      elif user_option == option2:\n",
        "         result = \"You lose!\"\n",
        "         print(result)\n",
        "      else :\n",
        "        result =\"You Win!\"\n",
        "        print(result)\n",
        "\n",
        "      if result == \"You Win!\" :\n",
        "        user_score += 1\n",
        "      else :\n",
        "        computer_score += 1\n",
        "\n",
        "      print(\"score - You :\",user_score,\"computer :\",computer_score)\n",
        "\n",
        "      play_again = input(\"Do you want to play again? (yes/no): \").lower()\n",
        "      if play_again != 'yes':\n",
        "        print(\"Thanks for playing!\")\n",
        "        break\n",
        "\n",
        "print(\" Welcome to the Rock-Paper-Scissors Game\")\n",
        "obj = Game()\n",
        "obj.quiz()\n",
        "\n"
      ]
    },
    {
      "cell_type": "code",
      "source": [],
      "metadata": {
        "id": "qLWaq3UxF491"
      },
      "execution_count": null,
      "outputs": []
    }
  ]
}