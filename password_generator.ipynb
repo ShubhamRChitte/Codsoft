{
  "cells": [
    {
      "cell_type": "markdown",
      "metadata": {
        "id": "view-in-github",
        "colab_type": "text"
      },
      "source": [
        "<a href=\"https://colab.research.google.com/github/ShubhamRChitte/Codsoft/blob/main/password_generator.ipynb\" target=\"_parent\"><img src=\"https://colab.research.google.com/assets/colab-badge.svg\" alt=\"Open In Colab\"/></a>"
      ]
    },
    {
      "cell_type": "code",
      "execution_count": 11,
      "metadata": {
        "id": "hpW-_sETVzJU",
        "colab": {
          "base_uri": "https://localhost:8080/"
        },
        "outputId": "8141c11f-dba9-48c5-8a36-0dfd74faee4d"
      },
      "outputs": [
        {
          "output_type": "stream",
          "name": "stdout",
          "text": [
            "Enter a desired length for password :5\n",
            "Password is `4d`H\n"
          ]
        }
      ],
      "source": [
        "import random\n",
        "import string\n",
        "\n",
        "def determine(length):\n",
        "  characters = string.ascii_letters + string.digits + string.punctuation\n",
        "  password = \"\".join(random.choices(characters,k=length))\n",
        "  return password\n",
        "\n",
        "def main():\n",
        "  length = int(input(\"Enter a desired length for password :\"))\n",
        "\n",
        "  password = determine(length)\n",
        "  print(\"Password is\",password)\n",
        "\n",
        "main()"
      ]
    }
  ],
  "metadata": {
    "colab": {
      "provenance": [],
      "authorship_tag": "ABX9TyMOHswAOZST/cid/ow95RXn",
      "include_colab_link": true
    },
    "kernelspec": {
      "display_name": "Python 3",
      "name": "python3"
    },
    "language_info": {
      "name": "python"
    }
  },
  "nbformat": 4,
  "nbformat_minor": 0
}