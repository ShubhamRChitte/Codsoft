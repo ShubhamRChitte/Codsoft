{
  "nbformat": 4,
  "nbformat_minor": 0,
  "metadata": {
    "colab": {
      "provenance": [],
      "authorship_tag": "ABX9TyPRWQkBd0WQpfipnlV7KSmX",
      "include_colab_link": true
    },
    "kernelspec": {
      "name": "python3",
      "display_name": "Python 3"
    },
    "language_info": {
      "name": "python"
    }
  },
  "cells": [
    {
      "cell_type": "markdown",
      "metadata": {
        "id": "view-in-github",
        "colab_type": "text"
      },
      "source": [
        "<a href=\"https://colab.research.google.com/github/ShubhamRChitte/Codsoft/blob/main/calculator.ipynb\" target=\"_parent\"><img src=\"https://colab.research.google.com/assets/colab-badge.svg\" alt=\"Open In Colab\"/></a>"
      ]
    },
    {
      "cell_type": "code",
      "execution_count": 4,
      "metadata": {
        "colab": {
          "base_uri": "https://localhost:8080/"
        },
        "id": "UiNgDHw6Vqyk",
        "outputId": "564468a3-13a2-4133-9bca-534193ff4bad"
      },
      "outputs": [
        {
          "name": "stdout",
          "output_type": "stream",
          "text": [
            "Select a operation :\n",
            "    1. For +\n",
            "    2. For -\n",
            "    3. For *\n",
            "    4. For /\n",
            "    5. For Exist\n",
            "    1\n",
            "Enter a 1st No :1\n",
            "Enter a 2nd No :2\n",
            "1 + 2 = 3\n",
            "Select a operation :\n",
            "    1. For +\n",
            "    2. For -\n",
            "    3. For *\n",
            "    4. For /\n",
            "    5. For Exist\n",
            "    5\n"
          ]
        }
      ],
      "source": [
        "class Calculator:\n",
        "\n",
        "  def __init__(self):\n",
        "    self.__first_menu()\n",
        "\n",
        "  def __first_menu(self):\n",
        "    operation = input(\"\"\"Select a operation :\n",
        "    1. For +\n",
        "    2. For -\n",
        "    3. For *\n",
        "    4. For /\n",
        "    5. For Exist\n",
        "    \"\"\")\n",
        "\n",
        "    if operation == \"1\":\n",
        "     self.add()\n",
        "    elif operation == \"2\":\n",
        "      self.sub()\n",
        "    elif operation == \"3\":\n",
        "      self.multi()\n",
        "    elif operation == \"4\":\n",
        "      self.divide()\n",
        "    else :\n",
        "      exit()\n",
        "\n",
        "\n",
        "\n",
        "  def __second_menu(self):\n",
        "    self.fnum = int(input(\"Enter a 1st No :\"))\n",
        "    self.snum = int(input(\"Enter a 2nd No :\"))\n",
        "\n",
        "  def add(self):\n",
        "    self.__second_menu()\n",
        "    sum = self.fnum + self.snum\n",
        "    print(self.fnum,\"+\",self.snum,\"=\",sum)\n",
        "    self.__first_menu()\n",
        "\n",
        "  def sub(self):\n",
        "    self.__second_menu()\n",
        "    sub = self.fnum - self.snum\n",
        "    print(self.fnum,\"-\",self.snum,\"=\",sub)\n",
        "    self.__first_menu()\n",
        "\n",
        "  def multi(self):\n",
        "    self.__second_menu()\n",
        "    multi = self.fnum * self.snum\n",
        "    print(self.fnum,\"*\",self.snum,\"=\",multi)\n",
        "    self.__first_menu()\n",
        "\n",
        "  def divide(self):\n",
        "    self.__second_menu()\n",
        "    if self.snum == 0:\n",
        "      print(self.fnum,\"/\",self.snum,\"= infinite\")\n",
        "    else :\n",
        "      divide = self.fnum / self.snum\n",
        "      print(self.fnum,\"/\",self.snum,\"=\",divide)\n",
        "    self.__first_menu()\n",
        "\n",
        "obj = Calculator()\n"
      ]
    },
    {
      "cell_type": "code",
      "source": [],
      "metadata": {
        "id": "hpW-_sETVzJU"
      },
      "execution_count": null,
      "outputs": []
    },
    {
      "cell_type": "markdown",
      "source": [
        "Game"
      ],
      "metadata": {
        "id": "KnZrLhN2vcgY"
      }
    }
  ]
}